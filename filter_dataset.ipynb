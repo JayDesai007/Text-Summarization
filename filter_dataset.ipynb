{
  "nbformat": 4,
  "nbformat_minor": 0,
  "metadata": {
    "colab": {
      "name": "filter_dataset.ipynb",
      "provenance": [],
      "collapsed_sections": []
    },
    "kernelspec": {
      "name": "python3",
      "display_name": "Python 3"
    },
    "accelerator": "GPU"
  },
  "cells": [
    {
      "cell_type": "code",
      "metadata": {
        "id": "88YAKpyL26hH",
        "colab_type": "code",
        "colab": {}
      },
      "source": [
        "!pip install -U -q PyDrive \n",
        "\n",
        "from pydrive.auth import GoogleAuth\n",
        "from pydrive.drive import GoogleDrive\n",
        "from google.colab import auth\n",
        "from oauth2client.client import GoogleCredentials\n",
        "\n",
        "auth.authenticate_user()\n",
        "gauth = GoogleAuth()\n",
        "gauth.credentials = GoogleCredentials.get_application_default()\n",
        "drive = GoogleDrive(gauth)"
      ],
      "execution_count": 0,
      "outputs": []
    },
    {
      "cell_type": "code",
      "metadata": {
        "id": "Umdmep4FI7U_",
        "colab_type": "code",
        "colab": {}
      },
      "source": [
        "downloaded = drive.CreateFile({'id':'1bMDcIwNq19WieDO9D7VOhRCPR7HTCuly'})\n",
        "downloaded.GetContentFile('Reviews.csv')"
      ],
      "execution_count": 0,
      "outputs": []
    },
    {
      "cell_type": "code",
      "metadata": {
        "id": "29Hl3T7GI7Ro",
        "colab_type": "code",
        "colab": {}
      },
      "source": [
        "import pandas as pd\n",
        "import re\n",
        "from nltk.corpus import stopwords\n",
        "from pickle import dump, load\n",
        "reviews = pd.read_csv(\"Reviews.csv\", nrows=100000)"
      ],
      "execution_count": 0,
      "outputs": []
    },
    {
      "cell_type": "code",
      "metadata": {
        "id": "TeWtFXNmI7O8",
        "colab_type": "code",
        "colab": {}
      },
      "source": [
        "reviews = reviews.dropna()\n",
        "reviews = reviews.drop(['Id','ProductId','UserId','ProfileName','HelpfulnessNumerator','HelpfulnessDenominator', 'Score','Time'], 1)\n",
        "reviews = reviews.reset_index(drop=True) "
      ],
      "execution_count": 0,
      "outputs": []
    },
    {
      "cell_type": "code",
      "metadata": {
        "id": "nG8y0FzjI7Lv",
        "colab_type": "code",
        "colab": {}
      },
      "source": [
        "contractions = {\"ain't\": \"am not\",\n",
        "                \"aren't\": \"are not / am not\",\n",
        "                \"can't\": \"cannot\",\n",
        "                \"can't've\": \"cannot have\",\n",
        "                \"'cause\": \"because\",\n",
        "                \"could've\": \"could have\",\n",
        "                \"couldn't\": \"could not\",\n",
        "                \"couldn't've\": \"could not have\",\n",
        "                \"didn't\": \"did not\",\n",
        "                \"doesn't\": \"does not\",\n",
        "                \"don't\": \"do not\",\n",
        "                \"hadn't\": \"had not\",\n",
        "                \"hadn't've\": \"had not have\",\n",
        "                \"hasn't\": \"has not\",\n",
        "                \"haven't\": \"have not\",\n",
        "                \"he'd\": \"he had / he would\",\n",
        "                \"he'd've\": \"he would have\",\n",
        "                \"he'll\": \"he shall / he will\",\n",
        "                \"he'll've\": \"he shall have / he will have\",\n",
        "                \"he's\": \"he has / he is\",\n",
        "                \"how'd\": \"how did\",\n",
        "                \"how'd'y\": \"how do you\",\n",
        "                \"how'll\": \"how will\",\n",
        "                \"how's\": \"how has / how is / how does\",\n",
        "                \"I'd\": \"I had / I would\",\n",
        "                \"I'd've\": \"I would have\",\n",
        "                \"I'll\": \"I shall / I will\",\n",
        "                \"I'll've\": \"I shall have / I will have\",\n",
        "                \"I'm\": \"I am\",\n",
        "                \"I've\": \"I have\",\n",
        "                \"isn't\": \"is not\",\n",
        "                \"it'd\": \"it had / it would\",\n",
        "                \"it'd've\": \"it would have\",\n",
        "                \"it'll\": \"it shall / it will\",\n",
        "                \"it'll've\": \"it shall have / it will have\",\n",
        "                \"it's\": \"it has / it is\",\n",
        "                \"let's\": \"let us\",\n",
        "                \"ma'am\": \"madam\",\n",
        "                \"mayn't\": \"may not\",\n",
        "                \"might've\": \"might have\",\n",
        "                \"mightn't\": \"might not\",\n",
        "                \"mightn't've\": \"might not have\",\n",
        "                \"must've\": \"must have\",\n",
        "                \"mustn't\": \"must not\",\n",
        "                \"mustn't've\": \"must not have\",\n",
        "                \"needn't\": \"need not\",\n",
        "                \"needn't've\": \"need not have\",\n",
        "                \"o'clock\": \"of the clock\",\n",
        "                \"oughtn't\": \"ought not\",\n",
        "                \"oughtn't've\": \"ought not have\",\n",
        "                \"shan't\": \"shall not\",\n",
        "                \"sha'n't\": \"shall not\",\n",
        "                \"shan't've\": \"shall not have\",\n",
        "                \"she'd\": \"she had / she would\",\n",
        "                \"she'd've\": \"she would have\",\n",
        "                \"she'll\": \"she shall / she will\",\n",
        "                \"she'll've\": \"she shall have / she will have\",\n",
        "                \"she's\": \"she has / she is\",\n",
        "                \"should've\": \"should have\",\n",
        "                \"shouldn't\": \"should not\",\n",
        "                \"shouldn't've\": \"should not have\",\n",
        "                \"so've\": \"so have\",\n",
        "                \"so's\": \"so as / so is\",\n",
        "                \"that'd\": \"that would / that had\",\n",
        "                \"that'd've\": \"that would have\",\n",
        "                \"that's\": \"that has / that is\",\n",
        "                \"there'd\": \"there had / there would\",\n",
        "                \"there'd've\": \"there would have\",\n",
        "                \"there's\": \"there has / there is\",\n",
        "                \"they'd\": \"they had / they would\",\n",
        "                \"they'd've\": \"they would have\",\n",
        "                \"they'll\": \"they shall / they will\",\n",
        "                \"they'll've\": \"they shall have / they will have\",\n",
        "                \"they're\": \"they are\",\n",
        "                \"they've\": \"they have\",\n",
        "                \"to've\": \"to have\",\n",
        "                \"wasn't\": \"was not\",\n",
        "                \"we'd\": \"we had / we would\",\n",
        "                \"we'd've\": \"we would have\",\n",
        "                \"we'll\": \"we will\",\n",
        "                \"we'll've\": \"we will have\",\n",
        "                \"we're\": \"we are\",\n",
        "                \"we've\": \"we have\",\n",
        "                \"weren't\": \"were not\",\n",
        "                \"what'll\": \"what shall / what will\",\n",
        "                \"what'll've\": \"what shall have / what will have\",\n",
        "                \"what're\": \"what are\",\n",
        "                \"what's\": \"what has / what is\",\n",
        "                \"what've\": \"what have\",\n",
        "                \"when's\": \"when has / when is\",\n",
        "                \"when've\": \"when have\",\n",
        "                \"where'd\": \"where did\",\n",
        "                \"where's\": \"where has / where is\",\n",
        "                \"where've\": \"where have\",\n",
        "                \"who'll\": \"who shall / who will\",\n",
        "                \"who'll've\": \"who shall have / who will have\",\n",
        "                \"who's\": \"who has / who is\",\n",
        "                \"who've\": \"who have\",\n",
        "                \"why's\": \"why has / why is\",\n",
        "                \"why've\": \"why have\",\n",
        "                \"will've\": \"will have\",\n",
        "                \"won't\": \"will not\",\n",
        "                \"won't've\": \"will not have\",\n",
        "                \"would've\": \"would have\",\n",
        "                \"wouldn't\": \"would not\",\n",
        "                \"wouldn't've\": \"would not have\",\n",
        "                \"y'all\": \"you all\",\n",
        "                \"y'all'd\": \"you all would\",\n",
        "                \"y'all'd've\": \"you all would have\",\n",
        "                \"y'all're\": \"you all are\",\n",
        "                \"y'all've\": \"you all have\",\n",
        "                \"you'd\": \"you had / you would\",\n",
        "                \"you'd've\": \"you would have\",\n",
        "                \"you'll\": \"you shall / you will\",\n",
        "                \"you'll've\": \"you shall have / you will have\",\n",
        "                \"you're\": \"you are\",\n",
        "                \"you've\": \"you have\"\n",
        "                }"
      ],
      "execution_count": 0,
      "outputs": []
    },
    {
      "cell_type": "code",
      "metadata": {
        "id": "Z3ntjv-II7JI",
        "colab_type": "code",
        "colab": {}
      },
      "source": [
        "def clean_text(text, remove_stopwords=True):\n",
        "    text = text.lower()\n",
        "    if True:\n",
        "        text = text.split()\n",
        "        new_text = []\n",
        "        for word in text:\n",
        "            if word in contractions:\n",
        "                new_text.append(contractions[word])\n",
        "            else:\n",
        "                new_text.append(word)\n",
        "        text = \" \".join(new_text)\n",
        "        text = re.sub(r'https?:\\/\\/.*[\\r\\n]*', '', text, flags=re.MULTILINE)\n",
        "        text = re.sub(r'\\<a href', ' ', text)\n",
        "        text = re.sub(r'&amp;', '', text)\n",
        "        text = re.sub(r'[_\"\\-;%()|+&=*%.,!?:#$@\\[\\]/]', ' ', text)\n",
        "        text = re.sub(r'<br />', ' ', text)\n",
        "        text = re.sub(r'\\'', ' ', text)\n",
        "    if remove_stopwords:\n",
        "        text = text.split()\n",
        "        stops = set(stopwords.words(\"english\"))\n",
        "        text = [w for w in text if not w in stops]\n",
        "        text = \" \".join(text)\n",
        "    return text"
      ],
      "execution_count": 0,
      "outputs": []
    },
    {
      "cell_type": "code",
      "metadata": {
        "id": "EvlxFV58JLnY",
        "colab_type": "code",
        "outputId": "f8eae7d3-8c77-4d96-c548-1d3e02555d52",
        "colab": {
          "base_uri": "https://localhost:8080/",
          "height": 84
        }
      },
      "source": [
        "import nltk\n",
        "nltk.download('stopwords')\n",
        "clean_summaries = []\n",
        "for summary in reviews.Summary:\n",
        "    clean_summaries.append(clean_text(summary, remove_stopwords=False))\n",
        "print(\"Summaries are complete.\")\n",
        "clean_texts = []\n",
        "for text in reviews.Text:\n",
        "    clean_texts.append(clean_text(text))\n",
        "print(\"Texts are complete.\")"
      ],
      "execution_count": 0,
      "outputs": [
        {
          "output_type": "stream",
          "text": [
            "[nltk_data] Downloading package stopwords to /root/nltk_data...\n",
            "[nltk_data]   Unzipping corpora/stopwords.zip.\n",
            "Summaries are complete.\n",
            "Texts are complete.\n"
          ],
          "name": "stdout"
        }
      ]
    },
    {
      "cell_type": "code",
      "metadata": {
        "id": "545mOtXiJLkF",
        "colab_type": "code",
        "colab": {}
      },
      "source": [
        "stories = list()\n",
        "for i, text in enumerate(clean_texts):\n",
        "    stories.append({'story': text, 'highlights': clean_summaries[i]})\n",
        "dump(stories, open('review_dataset_.pkl', 'wb'))"
      ],
      "execution_count": 0,
      "outputs": []
    },
    {
      "cell_type": "code",
      "metadata": {
        "id": "6M30jxngJLhX",
        "colab_type": "code",
        "colab": {}
      },
      "source": [
        "from google.colab import files\n",
        "files.download('review_dataset_.pkl') "
      ],
      "execution_count": 0,
      "outputs": []
    },
    {
      "cell_type": "code",
      "metadata": {
        "id": "mwvktCSQFFMP",
        "colab_type": "code",
        "colab": {}
      },
      "source": [
        ""
      ],
      "execution_count": 0,
      "outputs": []
    },
    {
      "cell_type": "code",
      "metadata": {
        "id": "CrsTu8-hFFO-",
        "colab_type": "code",
        "colab": {}
      },
      "source": [
        ""
      ],
      "execution_count": 0,
      "outputs": []
    },
    {
      "cell_type": "code",
      "metadata": {
        "id": "5YV1MN1aFFRe",
        "colab_type": "code",
        "colab": {}
      },
      "source": [
        ""
      ],
      "execution_count": 0,
      "outputs": []
    }
  ]
}